{
 "cells": [
  {
   "cell_type": "markdown",
   "id": "7e83dc1a-fae1-4ed8-8524-6812b960160e",
   "metadata": {},
   "source": [
    "Question 1\n",
    "\n",
    "A permutation perm of n + 1 integers of all the integers in the range [0, n] can be represented as a string s of length n where:\n",
    "\n",
    "- s[i] == 'I' if perm[i] < perm[i + 1], and\n",
    "- s[i] == 'D' if perm[i] > perm[i + 1].\n",
    "\n",
    "Given a string s, reconstruct the permutation perm and return it. If there are multiple valid permutations perm, return **any of them**.\n",
    "\n",
    "**Example 1:**\n",
    "\n",
    "**Input:** s = \"IDID\"\n",
    "\n",
    "**Output:**\n",
    "\n",
    "[0,4,1,3,2]\n"
   ]
  },
  {
   "cell_type": "code",
   "execution_count": 1,
   "id": "74dca786-560c-4f34-b8f5-b8a9a178b9f1",
   "metadata": {},
   "outputs": [
    {
     "name": "stdout",
     "output_type": "stream",
     "text": [
      "[0, 4, 1, 3, 2]\n"
     ]
    }
   ],
   "source": [
    "def reconstructPermutation(s):\n",
    "    perm = []\n",
    "    n = len(s)\n",
    "    low, high = 0, n\n",
    "    \n",
    "    for ch in s:\n",
    "        if ch == 'I':\n",
    "            perm.append(low)\n",
    "            low += 1\n",
    "        else:  # ch == 'D'\n",
    "            perm.append(high)\n",
    "            high -= 1\n",
    "    \n",
    "    perm.append(low)  # or perm.append(high)\n",
    "    return perm\n",
    "    \n",
    "s = \"IDID\"\n",
    "reconstructed_perm = reconstructPermutation(s)\n",
    "print(reconstructed_perm)\n",
    "\n"
   ]
  },
  {
   "cell_type": "markdown",
   "id": "53765ad9-e279-47a5-8545-53b67cab5612",
   "metadata": {},
   "source": [
    "TC - O(n)\n",
    "SC - O(n)"
   ]
  },
  {
   "cell_type": "markdown",
   "id": "52434ea0-c202-402d-acd1-55b1337d1315",
   "metadata": {},
   "source": [
    "Question 2\n",
    "\n",
    "You are given an m x n integer matrix matrix with the following two properties:\n",
    "\n",
    "- Each row is sorted in non-decreasing order.\n",
    "- The first integer of each row is greater than the last integer of the previous row.\n",
    "\n",
    "Given an integer target, return true *if* target *is in* matrix *or* false *otherwise*.\n",
    "\n",
    "You must write a solution in O(log(m * n)) time complexity.\n",
    "\n",
    "**Example 1:**\n",
    "**Input:** matrix = [[1,3,5,7],[10,11,16,20],[23,30,34,60]], target = 3\n",
    "\n",
    "**Output:** true"
   ]
  },
  {
   "cell_type": "code",
   "execution_count": 2,
   "id": "e4ed64ab-33e5-4f58-a097-9b843e99fc57",
   "metadata": {},
   "outputs": [
    {
     "name": "stdout",
     "output_type": "stream",
     "text": [
      "True\n"
     ]
    }
   ],
   "source": [
    "def searchMatrix(matrix, target):\n",
    "    if not matrix or not matrix[0]:\n",
    "        return False\n",
    "    \n",
    "    rows = len(matrix)\n",
    "    cols = len(matrix[0])\n",
    "    left = 0\n",
    "    right = rows * cols - 1\n",
    "    \n",
    "    while left <= right:\n",
    "        mid = (left + right) // 2\n",
    "        mid_element = matrix[mid // cols][mid % cols]\n",
    "        \n",
    "        if mid_element == target:\n",
    "            return True\n",
    "        elif mid_element < target:\n",
    "            left = mid + 1\n",
    "        else:\n",
    "            right = mid - 1\n",
    "    \n",
    "    return False\n",
    "\n",
    "matrix = [[1,3,5,7],[10,11,16,20],[23,30,34,60]]\n",
    "target = 3\n",
    "print(searchMatrix(matrix, target))\n",
    "\n"
   ]
  },
  {
   "cell_type": "markdown",
   "id": "cd62ad13-92f1-4a8c-a4db-70c73b28822e",
   "metadata": {},
   "source": [
    "TC - O(log(m*n))----binarysearch with m*n\n",
    "SC - O(1)"
   ]
  },
  {
   "cell_type": "markdown",
   "id": "9e6ed909-edd8-4fdc-b1c0-65451a484a9b",
   "metadata": {},
   "source": [
    "Question 3\n",
    "\n",
    "Given an array of integers arr, return *true if and only if it is a valid mountain array*.\n",
    "\n",
    "Recall that arr is a mountain array if and only if:\n",
    "\n",
    "- arr.length >= 3\n",
    "- There exists some i with 0 < i < arr.length - 1 such that:\n",
    "    - arr[0] < arr[1] < ... < arr[i - 1] < arr[i]\n",
    "    - arr[i] > arr[i + 1] > ... > arr[arr.length -\n",
    "                                      \n",
    "                                      **Example 1:**\n",
    "\n",
    "**Input:** arr = [2,1]\n",
    "\n",
    "**Output:**\n",
    "\n",
    "false"
   ]
  },
  {
   "cell_type": "code",
   "execution_count": 3,
   "id": "6bbe4d86-3f21-4476-806b-63711d439a6c",
   "metadata": {},
   "outputs": [
    {
     "name": "stdout",
     "output_type": "stream",
     "text": [
      "False\n"
     ]
    }
   ],
   "source": [
    "def validMountainArray(arr):\n",
    "    n = len(arr)\n",
    "    if n < 3:\n",
    "        return False\n",
    "\n",
    "    # Check the increasing part of the mountain\n",
    "    i = 0\n",
    "    while i < n - 1 and arr[i] < arr[i + 1]:\n",
    "        i += 1\n",
    "\n",
    "    # If there is no increasing part or it's the last element, not a valid mountain\n",
    "    if i == 0 or i == n - 1:\n",
    "        return False\n",
    "\n",
    "    # Check the decreasing part of the mountain\n",
    "    while i < n - 1 and arr[i] > arr[i + 1]:\n",
    "        i += 1\n",
    "\n",
    "    # If we reached the end of the array, it's a valid mountain\n",
    "    return i == n - 1\n",
    "\n",
    "arr = [2, 1]\n",
    "print(validMountainArray(arr))\n",
    "\n"
   ]
  },
  {
   "cell_type": "markdown",
   "id": "86306304-fec4-4967-bbc0-cf3371876b5a",
   "metadata": {},
   "source": [
    "TC - O(n)\n",
    "SC - O(1)"
   ]
  },
  {
   "cell_type": "markdown",
   "id": "c57939f0-bc05-4061-898f-c5b0cae67a2e",
   "metadata": {},
   "source": [
    "Question 4\n",
    "\n",
    "Given a binary array nums, return *the maximum length of a contiguous subarray with an equal number of* 0 *and* 1.\n",
    "\n",
    "**Example 1:**\n",
    "\n",
    "**Input:** nums = [0,1]\n",
    "\n",
    "**Output:** 2\n",
    "\n",
    "**Explanation:**\n",
    "\n",
    "[0, 1] is the longest contiguous subarray with an equal number of 0 and 1.\n"
   ]
  },
  {
   "cell_type": "code",
   "execution_count": 4,
   "id": "fe3cac65-72dc-4c90-9545-5877d64e1ee6",
   "metadata": {},
   "outputs": [
    {
     "name": "stdout",
     "output_type": "stream",
     "text": [
      "2\n"
     ]
    }
   ],
   "source": [
    "def findMaxLength(nums):\n",
    "    max_length = 0\n",
    "    count = 0\n",
    "    sum_counts = {0: -1}\n",
    "\n",
    "    for i in range(len(nums)):\n",
    "        if nums[i] == 0:\n",
    "            count -= 1\n",
    "        else:\n",
    "            count += 1\n",
    "\n",
    "        if count in sum_counts:\n",
    "            max_length = max(max_length, i - sum_counts[count])\n",
    "        else:\n",
    "            sum_counts[count] = i\n",
    "\n",
    "    return max_length\n",
    "\n",
    "nums = [0, 1]\n",
    "print(findMaxLength(nums))\n",
    "\n"
   ]
  },
  {
   "cell_type": "markdown",
   "id": "734872db-54b4-4259-8833-b5a804881e0d",
   "metadata": {},
   "source": [
    "TC - O(n)\n",
    "SC - O(n)"
   ]
  },
  {
   "cell_type": "markdown",
   "id": "6733d7ef-fc98-4a92-80c5-b4e5ba3cda5b",
   "metadata": {},
   "source": [
    "Question 5\n",
    "\n",
    "The **product sum** of two equal-length arrays a and b is equal to the sum of a[i] * b[i] for all 0 <= i < a.length (**0-indexed**).\n",
    "\n",
    "- For example, if a = [1,2,3,4] and b = [5,2,3,1], the **product sum** would be 1*5 + 2*2 + 3*3 + 4*1 = 22.\n",
    "\n",
    "Given two arrays nums1 and nums2 of length n, return *the **minimum product sum** if you are allowed to **rearrange** the **order** of the elements in* nums1.\n",
    "\n",
    "**Example 1:**\n",
    "\n",
    "**Input:** nums1 = [5,3,4,2], nums2 = [4,2,2,5]\n",
    "\n",
    "**Output:** 40\n",
    "\n",
    "**Explanation:**\n",
    "\n",
    "We can rearrange nums1 to become [3,5,4,2]. The product sum of [3,5,4,2] and [4,2,2,5] is 3*4 + 5*2 + 4*2 + 2*5 = 40.\n"
   ]
  },
  {
   "cell_type": "code",
   "execution_count": 5,
   "id": "572a12c3-a24d-4986-b84f-4913636c391e",
   "metadata": {},
   "outputs": [
    {
     "name": "stdout",
     "output_type": "stream",
     "text": [
      "40\n"
     ]
    }
   ],
   "source": [
    "def minProductSum(nums1, nums2):\n",
    "    nums1.sort()  # Sort nums1 in ascending order\n",
    "    nums2.sort(reverse=True)  # Sort nums2 in descending order\n",
    "    \n",
    "    n = len(nums1)\n",
    "    product_sum = sum(nums1[i] * nums2[i] for i in range(n))\n",
    "    \n",
    "    return product_sum\n",
    "\n",
    "nums1 = [5, 3, 4, 2]\n",
    "nums2 = [4, 2, 2, 5]\n",
    "print(minProductSum(nums1, nums2))\n",
    "\n"
   ]
  },
  {
   "cell_type": "markdown",
   "id": "a1ae2585-865a-4644-b162-c19c75de18d1",
   "metadata": {},
   "source": [
    "TC - O(nlogn)-----sorting array\n",
    "SC - O(1)"
   ]
  },
  {
   "cell_type": "markdown",
   "id": "0ec8240e-1498-41a3-8b09-4bd3e39ccabf",
   "metadata": {},
   "source": [
    "Question 6**\n",
    "\n",
    "An integer array original is transformed into a **doubled** array changed by appending **twice the value** of every element in original, and then randomly **shuffling** the resulting array.\n",
    "\n",
    "Given an array changed, return original *if* changed *is a **doubled** array. If* changed *is not a **doubled** array, return an empty array. The elements in* original *may be returned in **any** order*.\n",
    "\n",
    "**Example 1:**\n",
    "\n",
    "**Input:** changed = [1,3,4,2,6,8]\n",
    "\n",
    "**Output:** [1,3,4]\n",
    "\n",
    "**Explanation:** One possible original array could be [1,3,4]:\n",
    "\n",
    "- Twice the value of 1 is 1 * 2 = 2.\n",
    "- Twice the value of 3 is 3 * 2 = 6.\n",
    "- Twice the value of 4 is 4 * 2 = 8.\n",
    "\n",
    "Other original arrays could be [4,3,1] or [3,1,4].\n"
   ]
  },
  {
   "cell_type": "code",
   "execution_count": null,
   "id": "7d5dcd9f-77eb-45fb-bf84-6095c10a467e",
   "metadata": {},
   "outputs": [],
   "source": [
    "from collections import Counter\n",
    "\n",
    "def findOriginalArray(changed):\n",
    "    if len(changed) % 2 != 0:\n",
    "        return []\n",
    "\n",
    "    counter = Counter(changed)      #logn\n",
    "    original = []\n",
    "\n",
    "    for num in sorted(changed):     #nlogn\n",
    "        if counter[num] == 0:\n",
    "            continue\n",
    "\n",
    "        double = num * 2\n",
    "\n",
    "        if counter[double] == 0:\n",
    "            return []\n",
    "\n",
    "        original.append(num)\n",
    "        counter[num] -= 1\n",
    "        counter[double] -= 1\n",
    "\n",
    "    return original\n",
    "\n",
    "# Example usage:\n",
    "changed = [1, 3, 4, 2, 6, 8]\n",
    "result = findOriginalArray(changed)\n",
    "print(result)\n",
    "\n"
   ]
  },
  {
   "cell_type": "markdown",
   "id": "8cf3a540-a28e-4612-8ba4-3798596b7252",
   "metadata": {},
   "source": [
    "TC - O(nlogn)\n",
    "SC - O(n)"
   ]
  },
  {
   "cell_type": "code",
   "execution_count": null,
   "id": "b74fd026-9d95-48db-9095-73a5e4694a99",
   "metadata": {},
   "outputs": [],
   "source": [
    "Question 7\n",
    "\n",
    "Given a positive integer n, generate an n x n matrix filled with elements from 1 to n2 in spiral order.\n",
    "\n",
    "**Example 1:**\n",
    "\n",
    "**Input:** n = 3\n",
    "\n",
    "**Output:** [[1,2,3],[8,9,4],[7,6,5]]"
   ]
  },
  {
   "cell_type": "code",
   "execution_count": 8,
   "id": "c9aecc97-cfd3-4bbe-aefe-dd00802f9263",
   "metadata": {},
   "outputs": [
    {
     "name": "stdout",
     "output_type": "stream",
     "text": [
      "[1, 2, 3]\n",
      "[8, 9, 4]\n",
      "[7, 6, 5]\n"
     ]
    }
   ],
   "source": [
    "def generateMatrix(n):\n",
    "    matrix = [[0] * n for _ in range(n)]\n",
    "    num = 1\n",
    "    top, bottom, left, right = 0, n - 1, 0, n - 1\n",
    "    \n",
    "    while num <= n * n:\n",
    "        # Traverse right\n",
    "        for i in range(left, right + 1):\n",
    "            matrix[top][i] = num\n",
    "            num += 1\n",
    "        top += 1\n",
    "        \n",
    "        # Traverse down\n",
    "        for i in range(top, bottom + 1):\n",
    "            matrix[i][right] = num\n",
    "            num += 1\n",
    "        right -= 1\n",
    "        \n",
    "        # Traverse left\n",
    "        for i in range(right, left - 1, -1):\n",
    "            matrix[bottom][i] = num\n",
    "            num += 1\n",
    "        bottom -= 1\n",
    "        \n",
    "        # Traverse up\n",
    "        for i in range(bottom, top - 1, -1):\n",
    "            matrix[i][left] = num\n",
    "            num += 1\n",
    "        left += 1\n",
    "    \n",
    "    return matrix\n",
    "\n",
    "n = 3\n",
    "matrix = generateMatrix(n)\n",
    "for row in matrix:\n",
    "    print(row)\n",
    "\n"
   ]
  },
  {
   "cell_type": "markdown",
   "id": "b8d3c894-c6aa-4aab-bd07-3472d51c7f3c",
   "metadata": {},
   "source": [
    "TC - O(n^2)\n",
    "SC - O(n^2)"
   ]
  },
  {
   "cell_type": "code",
   "execution_count": null,
   "id": "768e8299-76cc-4ba0-aac2-f8c79b09e77b",
   "metadata": {},
   "outputs": [],
   "source": [
    "Question 8\n",
    "\n",
    "Given two [sparse matrices](https://en.wikipedia.org/wiki/Sparse_matrix) mat1 of size m x k and mat2 of size k x n, return the result of mat1 x mat2. You may assume that multiplication is always possible.\n",
    "\n",
    "**Example 1:**\n",
    "\n",
    "**Input:** mat1 = [[1,0,0],[-1,0,3]], mat2 = [[7,0,0],[0,0,0],[0,0,1]]\n",
    "\n",
    "**Output:**\n",
    "\n",
    "[[7,0,0],[-7,0,3]]"
   ]
  },
  {
   "cell_type": "code",
   "execution_count": 9,
   "id": "be84e8cd-131a-4a0a-8c49-b357d3a59b36",
   "metadata": {},
   "outputs": [
    {
     "name": "stdout",
     "output_type": "stream",
     "text": [
      "[[7, 0, 0], [-7, 0, 3]]\n"
     ]
    }
   ],
   "source": [
    "def multiply(mat1, mat2):\n",
    "    m, k = len(mat1), len(mat1[0])\n",
    "    k2, n = len(mat2), len(mat2[0])\n",
    "\n",
    "    result = [[0] * n for _ in range(m)]\n",
    "\n",
    "    for i in range(m):\n",
    "        for j in range(n):\n",
    "            for x in range(k):\n",
    "                result[i][j] += mat1[i][x] * mat2[x][j]\n",
    "\n",
    "    return result\n",
    "\n",
    "\n",
    "mat1 = [[1, 0, 0], [-1, 0, 3]]\n",
    "mat2 = [[7, 0, 0], [0, 0, 0], [0, 0, 1]]\n",
    "result = multiply(mat1, mat2)\n",
    "print(result)\n",
    "\n"
   ]
  },
  {
   "cell_type": "markdown",
   "id": "4d45d6ac-1546-4074-8c61-aacdc3cd5624",
   "metadata": {},
   "source": [
    "TC - O(m*k*n)\n",
    "SC - O(m*n)"
   ]
  }
 ],
 "metadata": {
  "kernelspec": {
   "display_name": "Python 3 (ipykernel)",
   "language": "python",
   "name": "python3"
  },
  "language_info": {
   "codemirror_mode": {
    "name": "ipython",
    "version": 3
   },
   "file_extension": ".py",
   "mimetype": "text/x-python",
   "name": "python",
   "nbconvert_exporter": "python",
   "pygments_lexer": "ipython3",
   "version": "3.10.6"
  }
 },
 "nbformat": 4,
 "nbformat_minor": 5
}
